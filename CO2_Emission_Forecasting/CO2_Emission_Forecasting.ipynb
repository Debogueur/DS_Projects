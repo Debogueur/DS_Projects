{
 "cells": [
  {
   "cell_type": "code",
   "execution_count": 1074,
   "id": "32eaca27",
   "metadata": {},
   "outputs": [],
   "source": [
    "import pandas as pd\n",
    "import matplotlib.pyplot as plt\n",
    "from matplotlib.pylab import rcParams\n",
    "%matplotlib inline\n",
    "import numpy as np\n",
    "from numpy import log\n",
    "import seaborn as sns\n",
    "from statsmodels.tsa.stattools import adfuller\n",
    "from statsmodels.tsa.seasonal import seasonal_decompose\n",
    "from statsmodels.graphics.tsaplots import plot_acf\n",
    "from statsmodels.graphics.tsaplots import plot_pacf\n",
    "from statsmodels.tsa.arima_model import ARMA\n",
    "from sklearn.preprocessing import MinMaxScaler\n",
    "\n",
    "from tensorflow.keras.models import Sequential\n",
    "from tensorflow.keras.layers import Dense, Dropout, LSTM, RepeatVector, TimeDistributed\n",
    "from tensorflow.keras.callbacks import EarlyStopping\n",
    "from sklearn.metrics import mean_squared_error, mean_absolute_error,mean_absolute_percentage_error\n",
    "import math\n",
    "\n",
    "import warnings\n",
    "warnings.filterwarnings('ignore')"
   ]
  },
  {
   "cell_type": "code",
   "execution_count": 1075,
   "id": "a6de0444",
   "metadata": {},
   "outputs": [],
   "source": [
    "co2_emission_data = pd.read_csv(\"data/CO2 dataset.csv\")"
   ]
  },
  {
   "cell_type": "markdown",
   "id": "f3f8f985",
   "metadata": {},
   "source": [
    "### PreProcessing"
   ]
  },
  {
   "cell_type": "code",
   "execution_count": 1076,
   "id": "1ffb34b5",
   "metadata": {},
   "outputs": [
    {
     "data": {
      "text/html": [
       "<div>\n",
       "<style scoped>\n",
       "    .dataframe tbody tr th:only-of-type {\n",
       "        vertical-align: middle;\n",
       "    }\n",
       "\n",
       "    .dataframe tbody tr th {\n",
       "        vertical-align: top;\n",
       "    }\n",
       "\n",
       "    .dataframe thead th {\n",
       "        text-align: right;\n",
       "    }\n",
       "</style>\n",
       "<table border=\"1\" class=\"dataframe\">\n",
       "  <thead>\n",
       "    <tr style=\"text-align: right;\">\n",
       "      <th></th>\n",
       "      <th>Year</th>\n",
       "      <th>CO2</th>\n",
       "    </tr>\n",
       "  </thead>\n",
       "  <tbody>\n",
       "    <tr>\n",
       "      <th>0</th>\n",
       "      <td>1800</td>\n",
       "      <td>0.00568</td>\n",
       "    </tr>\n",
       "    <tr>\n",
       "      <th>1</th>\n",
       "      <td>1801</td>\n",
       "      <td>0.00561</td>\n",
       "    </tr>\n",
       "    <tr>\n",
       "      <th>2</th>\n",
       "      <td>1802</td>\n",
       "      <td>0.00555</td>\n",
       "    </tr>\n",
       "    <tr>\n",
       "      <th>3</th>\n",
       "      <td>1803</td>\n",
       "      <td>0.00548</td>\n",
       "    </tr>\n",
       "    <tr>\n",
       "      <th>4</th>\n",
       "      <td>1804</td>\n",
       "      <td>0.00542</td>\n",
       "    </tr>\n",
       "  </tbody>\n",
       "</table>\n",
       "</div>"
      ],
      "text/plain": [
       "   Year      CO2\n",
       "0  1800  0.00568\n",
       "1  1801  0.00561\n",
       "2  1802  0.00555\n",
       "3  1803  0.00548\n",
       "4  1804  0.00542"
      ]
     },
     "execution_count": 1076,
     "metadata": {},
     "output_type": "execute_result"
    }
   ],
   "source": [
    "co2_emission_data.head(5)"
   ]
  },
  {
   "cell_type": "code",
   "execution_count": 1077,
   "id": "66a9429f",
   "metadata": {},
   "outputs": [
    {
     "data": {
      "text/html": [
       "<div>\n",
       "<style scoped>\n",
       "    .dataframe tbody tr th:only-of-type {\n",
       "        vertical-align: middle;\n",
       "    }\n",
       "\n",
       "    .dataframe tbody tr th {\n",
       "        vertical-align: top;\n",
       "    }\n",
       "\n",
       "    .dataframe thead th {\n",
       "        text-align: right;\n",
       "    }\n",
       "</style>\n",
       "<table border=\"1\" class=\"dataframe\">\n",
       "  <thead>\n",
       "    <tr style=\"text-align: right;\">\n",
       "      <th></th>\n",
       "      <th>Year</th>\n",
       "      <th>CO2</th>\n",
       "    </tr>\n",
       "  </thead>\n",
       "  <tbody>\n",
       "    <tr>\n",
       "      <th>210</th>\n",
       "      <td>2010</td>\n",
       "      <td>15.6</td>\n",
       "    </tr>\n",
       "    <tr>\n",
       "      <th>211</th>\n",
       "      <td>2011</td>\n",
       "      <td>15.6</td>\n",
       "    </tr>\n",
       "    <tr>\n",
       "      <th>212</th>\n",
       "      <td>2012</td>\n",
       "      <td>14.8</td>\n",
       "    </tr>\n",
       "    <tr>\n",
       "      <th>213</th>\n",
       "      <td>2013</td>\n",
       "      <td>14.7</td>\n",
       "    </tr>\n",
       "    <tr>\n",
       "      <th>214</th>\n",
       "      <td>2014</td>\n",
       "      <td>15.1</td>\n",
       "    </tr>\n",
       "  </tbody>\n",
       "</table>\n",
       "</div>"
      ],
      "text/plain": [
       "     Year   CO2\n",
       "210  2010  15.6\n",
       "211  2011  15.6\n",
       "212  2012  14.8\n",
       "213  2013  14.7\n",
       "214  2014  15.1"
      ]
     },
     "execution_count": 1077,
     "metadata": {},
     "output_type": "execute_result"
    }
   ],
   "source": [
    "co2_emission_data.tail(5)"
   ]
  },
  {
   "cell_type": "code",
   "execution_count": 1078,
   "id": "b89202cf",
   "metadata": {},
   "outputs": [
    {
     "data": {
      "text/plain": [
       "(215, 2)"
      ]
     },
     "execution_count": 1078,
     "metadata": {},
     "output_type": "execute_result"
    }
   ],
   "source": [
    "co2_emission_data.shape"
   ]
  },
  {
   "cell_type": "code",
   "execution_count": 1079,
   "id": "d463c9dd",
   "metadata": {},
   "outputs": [
    {
     "data": {
      "text/html": [
       "<div>\n",
       "<style scoped>\n",
       "    .dataframe tbody tr th:only-of-type {\n",
       "        vertical-align: middle;\n",
       "    }\n",
       "\n",
       "    .dataframe tbody tr th {\n",
       "        vertical-align: top;\n",
       "    }\n",
       "\n",
       "    .dataframe thead th {\n",
       "        text-align: right;\n",
       "    }\n",
       "</style>\n",
       "<table border=\"1\" class=\"dataframe\">\n",
       "  <thead>\n",
       "    <tr style=\"text-align: right;\">\n",
       "      <th></th>\n",
       "      <th>Year</th>\n",
       "      <th>CO2</th>\n",
       "    </tr>\n",
       "  </thead>\n",
       "  <tbody>\n",
       "    <tr>\n",
       "      <th>count</th>\n",
       "      <td>215.000000</td>\n",
       "      <td>215.000000</td>\n",
       "    </tr>\n",
       "    <tr>\n",
       "      <th>mean</th>\n",
       "      <td>1907.000000</td>\n",
       "      <td>6.741970</td>\n",
       "    </tr>\n",
       "    <tr>\n",
       "      <th>std</th>\n",
       "      <td>62.209324</td>\n",
       "      <td>6.522437</td>\n",
       "    </tr>\n",
       "    <tr>\n",
       "      <th>min</th>\n",
       "      <td>1800.000000</td>\n",
       "      <td>0.001750</td>\n",
       "    </tr>\n",
       "    <tr>\n",
       "      <th>25%</th>\n",
       "      <td>1853.500000</td>\n",
       "      <td>0.041050</td>\n",
       "    </tr>\n",
       "    <tr>\n",
       "      <th>50%</th>\n",
       "      <td>1907.000000</td>\n",
       "      <td>6.390000</td>\n",
       "    </tr>\n",
       "    <tr>\n",
       "      <th>75%</th>\n",
       "      <td>1960.500000</td>\n",
       "      <td>11.500000</td>\n",
       "    </tr>\n",
       "    <tr>\n",
       "      <th>max</th>\n",
       "      <td>2014.000000</td>\n",
       "      <td>18.200000</td>\n",
       "    </tr>\n",
       "  </tbody>\n",
       "</table>\n",
       "</div>"
      ],
      "text/plain": [
       "              Year         CO2\n",
       "count   215.000000  215.000000\n",
       "mean   1907.000000    6.741970\n",
       "std      62.209324    6.522437\n",
       "min    1800.000000    0.001750\n",
       "25%    1853.500000    0.041050\n",
       "50%    1907.000000    6.390000\n",
       "75%    1960.500000   11.500000\n",
       "max    2014.000000   18.200000"
      ]
     },
     "execution_count": 1079,
     "metadata": {},
     "output_type": "execute_result"
    }
   ],
   "source": [
    "co2_emission_data.describe()"
   ]
  },
  {
   "cell_type": "markdown",
   "id": "4b8aa6d5",
   "metadata": {},
   "source": [
    "#### Insights\n",
    "#### 1. Contains 215 Observations & 2 Features\n",
    "#### 2. Data have  gotten from year of 1800 to 2014\n",
    "#### 3. The  CO2 Emission range from 0.001750 to 18.200000 in between year of 1800 to 2014"
   ]
  },
  {
   "cell_type": "code",
   "execution_count": 1080,
   "id": "ac6048e0",
   "metadata": {},
   "outputs": [
    {
     "data": {
      "text/plain": [
       "Year    0\n",
       "CO2     0\n",
       "dtype: int64"
      ]
     },
     "execution_count": 1080,
     "metadata": {},
     "output_type": "execute_result"
    }
   ],
   "source": [
    "co2_emission_data.isna().sum()"
   ]
  },
  {
   "cell_type": "code",
   "execution_count": 1081,
   "id": "97e2a6be",
   "metadata": {},
   "outputs": [
    {
     "name": "stdout",
     "output_type": "stream",
     "text": [
      "<class 'pandas.core.frame.DataFrame'>\n",
      "RangeIndex: 215 entries, 0 to 214\n",
      "Data columns (total 2 columns):\n",
      " #   Column  Non-Null Count  Dtype  \n",
      "---  ------  --------------  -----  \n",
      " 0   Year    215 non-null    int64  \n",
      " 1   CO2     215 non-null    float64\n",
      "dtypes: float64(1), int64(1)\n",
      "memory usage: 3.5 KB\n"
     ]
    }
   ],
   "source": [
    "co2_emission_data.info()"
   ]
  },
  {
   "cell_type": "markdown",
   "id": "1c95ad07",
   "metadata": {},
   "source": [
    "#### Insights\n",
    "#### 1 Not Contains any null value"
   ]
  },
  {
   "cell_type": "code",
   "execution_count": 1082,
   "id": "e600ead8",
   "metadata": {},
   "outputs": [
    {
     "data": {
      "text/plain": [
       "0"
      ]
     },
     "execution_count": 1082,
     "metadata": {},
     "output_type": "execute_result"
    }
   ],
   "source": [
    "co2_emission_data.duplicated().sum()"
   ]
  },
  {
   "cell_type": "markdown",
   "id": "c33ebb55",
   "metadata": {},
   "source": [
    "#### Insights:\n",
    "#### Not Contatins any Duplicate Values"
   ]
  },
  {
   "cell_type": "code",
   "execution_count": 1083,
   "id": "2c31be31",
   "metadata": {},
   "outputs": [
    {
     "data": {
      "text/plain": [
       "array([1800, 1801, 1802, 1803, 1804, 1805, 1806, 1807, 1808, 1809, 1810,\n",
       "       1811, 1812, 1813, 1814, 1815, 1816, 1817, 1818, 1819, 1820, 1821,\n",
       "       1822, 1823, 1824, 1825, 1826, 1827, 1828, 1829, 1830, 1831, 1832,\n",
       "       1833, 1834, 1835, 1836, 1837, 1838, 1839, 1840, 1841, 1842, 1843,\n",
       "       1844, 1845, 1846, 1847, 1848, 1849, 1850, 1851, 1852, 1853, 1854,\n",
       "       1855, 1856, 1857, 1858, 1859, 1860, 1861, 1862, 1863, 1864, 1865,\n",
       "       1866, 1867, 1868, 1869, 1870, 1871, 1872, 1873, 1874, 1875, 1876,\n",
       "       1877, 1878, 1879, 1880, 1881, 1882, 1883, 1884, 1885, 1886, 1887,\n",
       "       1888, 1889, 1890, 1891, 1892, 1893, 1894, 1895, 1896, 1897, 1898,\n",
       "       1899, 1900, 1901, 1902, 1903, 1904, 1905, 1906, 1907, 1908, 1909,\n",
       "       1910, 1911, 1912, 1913, 1914, 1915, 1916, 1917, 1918, 1919, 1920,\n",
       "       1921, 1922, 1923, 1924, 1925, 1926, 1927, 1928, 1929, 1930, 1931,\n",
       "       1932, 1933, 1934, 1935, 1936, 1937, 1938, 1939, 1940, 1941, 1942,\n",
       "       1943, 1944, 1945, 1946, 1947, 1948, 1949, 1950, 1951, 1952, 1953,\n",
       "       1954, 1955, 1956, 1957, 1958, 1959, 1960, 1961, 1962, 1963, 1964,\n",
       "       1965, 1966, 1967, 1968, 1969, 1970, 1971, 1972, 1973, 1974, 1975,\n",
       "       1976, 1977, 1978, 1979, 1980, 1981, 1982, 1983, 1984, 1985, 1986,\n",
       "       1987, 1988, 1989, 1990, 1991, 1992, 1993, 1994, 1995, 1996, 1997,\n",
       "       1998, 1999, 2000, 2001, 2002, 2003, 2004, 2005, 2006, 2007, 2008,\n",
       "       2009, 2010, 2011, 2012, 2013, 2014], dtype=int64)"
      ]
     },
     "execution_count": 1083,
     "metadata": {},
     "output_type": "execute_result"
    }
   ],
   "source": [
    "co2_emission_data['Year'].unique()"
   ]
  },
  {
   "cell_type": "code",
   "execution_count": 1084,
   "id": "61dc5088",
   "metadata": {},
   "outputs": [
    {
     "data": {
      "text/plain": [
       "array([5.68e-03, 5.61e-03, 5.55e-03, 5.48e-03, 5.42e-03, 5.36e-03,\n",
       "       5.29e-03, 5.23e-03, 5.17e-03, 5.11e-03, 5.04e-03, 4.97e-03,\n",
       "       4.90e-03, 4.83e-03, 4.75e-03, 4.66e-03, 4.57e-03, 4.47e-03,\n",
       "       4.38e-03, 4.27e-03, 4.17e-03, 4.06e-03, 3.95e-03, 3.84e-03,\n",
       "       3.73e-03, 3.62e-03, 3.50e-03, 3.39e-03, 3.27e-03, 3.16e-03,\n",
       "       3.05e-03, 2.94e-03, 2.83e-03, 2.73e-03, 2.63e-03, 2.53e-03,\n",
       "       2.44e-03, 2.35e-03, 2.27e-03, 2.18e-03, 2.10e-03, 2.02e-03,\n",
       "       1.95e-03, 1.88e-03, 1.81e-03, 1.75e-03, 1.18e-02, 1.47e-02,\n",
       "       1.74e-02, 1.98e-02, 2.36e-02, 2.71e-02, 3.18e-02, 3.76e-02,\n",
       "       4.45e-02, 5.22e-02, 6.08e-02, 7.15e-02, 8.53e-02, 9.96e-02,\n",
       "       1.18e-01, 1.39e-01, 1.67e-01, 2.06e-01, 2.42e-01, 2.88e-01,\n",
       "       3.46e-01, 4.36e-01, 2.55e-01, 1.82e-01, 3.21e-01, 4.61e-01,\n",
       "       4.71e-01, 4.06e-01, 4.04e-01, 4.50e-01, 4.84e-01, 4.56e-01,\n",
       "       5.08e-01, 1.20e+00, 1.27e+00, 1.48e+00, 1.64e+00, 1.87e+00,\n",
       "       1.78e+00, 2.14e+00, 2.77e+00, 2.33e+00, 2.53e+00, 2.81e+00,\n",
       "       2.78e+00, 2.94e+00, 2.62e+00, 2.80e+00, 3.53e+00, 3.73e+00,\n",
       "       4.24e+00, 4.49e+00, 4.78e+00, 5.50e+00, 5.72e+00, 5.87e+00,\n",
       "       7.18e+00, 7.02e+00, 6.51e+00, 7.20e+00, 8.18e+00, 8.86e+00,\n",
       "       1.01e+01, 8.53e+00, 7.51e+00, 9.33e+00, 1.03e+01, 1.07e+01,\n",
       "       8.91e+00, 9.64e+00, 8.98e+00, 7.60e+00, 8.27e+00, 7.91e+00,\n",
       "       8.75e+00, 9.32e+00, 9.66e+00, 9.04e+00, 7.15e+00, 6.53e+00,\n",
       "       6.39e+00, 7.28e+00, 7.11e+00, 7.70e+00, 7.50e+00, 8.25e+00,\n",
       "       1.02e+01, 1.10e+01, 1.14e+01, 1.15e+01, 1.05e+01, 1.12e+01,\n",
       "       1.21e+01, 1.08e+01, 1.17e+01, 1.06e+01, 1.11e+01, 1.23e+01,\n",
       "       1.28e+01, 1.29e+01, 1.38e+01, 1.46e+01, 1.59e+01, 1.62e+01,\n",
       "       1.72e+01, 1.70e+01, 1.71e+01, 1.73e+01, 1.82e+01, 1.81e+01,\n",
       "       1.66e+01, 1.63e+01, 1.55e+01, 1.69e+01, 1.57e+01, 1.52e+01,\n",
       "       1.68e+01, 1.74e+01, 1.75e+01, 1.67e+01, 1.56e+01, 1.48e+01,\n",
       "       1.47e+01, 1.51e+01])"
      ]
     },
     "execution_count": 1084,
     "metadata": {},
     "output_type": "execute_result"
    }
   ],
   "source": [
    "co2_emission_data['CO2'].unique()"
   ]
  },
  {
   "cell_type": "code",
   "execution_count": 1085,
   "id": "4e7add2d",
   "metadata": {},
   "outputs": [
    {
     "data": {
      "text/plain": [
       "<AxesSubplot:xlabel='Year'>"
      ]
     },
     "execution_count": 1085,
     "metadata": {},
     "output_type": "execute_result"
    },
    {
     "data": {
      "image/png": "[encoded data removed]",
      "text/plain": [
       "<Figure size 432x288 with 1 Axes>"
      ]
     },
     "metadata": {
      "needs_background": "light"
     },
     "output_type": "display_data"
    }
   ],
   "source": [
    "# Checking Outliers\n",
    "sns.boxplot(co2_emission_data['Year'])"
   ]
  },
  {
   "cell_type": "code",
   "execution_count": 1086,
   "id": "0fc95127",
   "metadata": {},
   "outputs": [
    {
     "data": {
      "text/plain": [
       "<AxesSubplot:xlabel='CO2'>"
      ]
     },
     "execution_count": 1086,
     "metadata": {},
     "output_type": "execute_result"
    },
    {
     "data": {
      "image/png": "[encoded data removed]",
      "text/plain": [
       "<Figure size 432x288 with 1 Axes>"
      ]
     },
     "metadata": {
      "needs_background": "light"
     },
     "output_type": "display_data"
    }
   ],
   "source": [
    "sns.boxplot(co2_emission_data['CO2'])"
   ]
  },
  {
   "cell_type": "markdown",
   "id": "b839ee05",
   "metadata": {},
   "source": [
    "### Insights\n",
    "#### 1. No Incorrect Values or Outliers present"
   ]
  },
  {
   "cell_type": "code",
   "execution_count": 1087,
   "id": "3ec46f5b",
   "metadata": {},
   "outputs": [
    {
     "data": {
      "text/plain": [
       "<AxesSubplot:xlabel='CO2', ylabel='Density'>"
      ]
     },
     "execution_count": 1087,
     "metadata": {},
     "output_type": "execute_result"
    },
    {
     "data": {
      "image/png": "[encoded data removed]",
      "text/plain": [
       "<Figure size 432x288 with 1 Axes>"
      ]
     },
     "metadata": {
      "needs_background": "light"
     },
     "output_type": "display_data"
    }
   ],
   "source": [
    "sns.distplot(co2_emission_data['CO2'])"
   ]
  },
  {
   "cell_type": "markdown",
   "id": "80163897",
   "metadata": {},
   "source": [
    "#### data is Normally distributed"
   ]
  },
  {
   "cell_type": "code",
   "execution_count": 1088,
   "id": "dafc7f0b",
   "metadata": {},
   "outputs": [
    {
     "data": {
      "text/html": [
       "<div>\n",
       "<style scoped>\n",
       "    .dataframe tbody tr th:only-of-type {\n",
       "        vertical-align: middle;\n",
       "    }\n",
       "\n",
       "    .dataframe tbody tr th {\n",
       "        vertical-align: top;\n",
       "    }\n",
       "\n",
       "    .dataframe thead th {\n",
       "        text-align: right;\n",
       "    }\n",
       "</style>\n",
       "<table border=\"1\" class=\"dataframe\">\n",
       "  <thead>\n",
       "    <tr style=\"text-align: right;\">\n",
       "      <th></th>\n",
       "      <th>CO2</th>\n",
       "      <th>Date</th>\n",
       "    </tr>\n",
       "  </thead>\n",
       "  <tbody>\n",
       "    <tr>\n",
       "      <th>0</th>\n",
       "      <td>0.00568</td>\n",
       "      <td>1800-01-01</td>\n",
       "    </tr>\n",
       "    <tr>\n",
       "      <th>1</th>\n",
       "      <td>0.00561</td>\n",
       "      <td>1801-01-01</td>\n",
       "    </tr>\n",
       "    <tr>\n",
       "      <th>2</th>\n",
       "      <td>0.00555</td>\n",
       "      <td>1802-01-01</td>\n",
       "    </tr>\n",
       "    <tr>\n",
       "      <th>3</th>\n",
       "      <td>0.00548</td>\n",
       "      <td>1803-01-01</td>\n",
       "    </tr>\n",
       "    <tr>\n",
       "      <th>4</th>\n",
       "      <td>0.00542</td>\n",
       "      <td>1804-01-01</td>\n",
       "    </tr>\n",
       "    <tr>\n",
       "      <th>...</th>\n",
       "      <td>...</td>\n",
       "      <td>...</td>\n",
       "    </tr>\n",
       "    <tr>\n",
       "      <th>210</th>\n",
       "      <td>15.60000</td>\n",
       "      <td>2010-01-01</td>\n",
       "    </tr>\n",
       "    <tr>\n",
       "      <th>211</th>\n",
       "      <td>15.60000</td>\n",
       "      <td>2011-01-01</td>\n",
       "    </tr>\n",
       "    <tr>\n",
       "      <th>212</th>\n",
       "      <td>14.80000</td>\n",
       "      <td>2012-01-01</td>\n",
       "    </tr>\n",
       "    <tr>\n",
       "      <th>213</th>\n",
       "      <td>14.70000</td>\n",
       "      <td>2013-01-01</td>\n",
       "    </tr>\n",
       "    <tr>\n",
       "      <th>214</th>\n",
       "      <td>15.10000</td>\n",
       "      <td>2014-01-01</td>\n",
       "    </tr>\n",
       "  </tbody>\n",
       "</table>\n",
       "<p>215 rows × 2 columns</p>\n",
       "</div>"
      ],
      "text/plain": [
       "          CO2       Date\n",
       "0     0.00568 1800-01-01\n",
       "1     0.00561 1801-01-01\n",
       "2     0.00555 1802-01-01\n",
       "3     0.00548 1803-01-01\n",
       "4     0.00542 1804-01-01\n",
       "..        ...        ...\n",
       "210  15.60000 2010-01-01\n",
       "211  15.60000 2011-01-01\n",
       "212  14.80000 2012-01-01\n",
       "213  14.70000 2013-01-01\n",
       "214  15.10000 2014-01-01\n",
       "\n",
       "[215 rows x 2 columns]"
      ]
     },
     "execution_count": 1088,
     "metadata": {},
     "output_type": "execute_result"
    }
   ],
   "source": [
    "# Convert Year to date time format\n",
    "co2_emission_data['Date'] =pd.to_datetime(co2_emission_data['Year'], format='%Y')\n",
    "co2_emission_data.drop(['Year'], axis=1,inplace=True)\n",
    "co2_emission_data"
   ]
  },
  {
   "cell_type": "code",
   "execution_count": 1089,
   "id": "11e5708f",
   "metadata": {},
   "outputs": [
    {
     "data": {
      "text/plain": [
       "CO2            float64\n",
       "Date    datetime64[ns]\n",
       "dtype: object"
      ]
     },
     "execution_count": 1089,
     "metadata": {},
     "output_type": "execute_result"
    }
   ],
   "source": [
    "co2_emission_data.dtypes"
   ]
  },
  {
   "cell_type": "markdown",
   "id": "2aa3c36a",
   "metadata": {},
   "source": [
    "### EDA"
   ]
  },
  {
   "cell_type": "code",
   "execution_count": 1090,
   "id": "cd7885fd",
   "metadata": {},
   "outputs": [],
   "source": [
    "X = np.array(co2_emission_data.index.tolist())\n",
    "y = np.array(co2_emission_data['CO2'])\n",
    "model = np.poly1d(np.polyfit(X, y, 4))"
   ]
  },
  {
   "cell_type": "code",
   "execution_count": 1091,
   "id": "b82c9916",
   "metadata": {},
   "outputs": [
    {
     "data": {
      "text/plain": [
       "Text(0.5, 1.0, 'Years wise CO2 Eission')"
      ]
     },
     "execution_count": 1091,
     "metadata": {},
     "output_type": "execute_result"
    },
    {
     "data": {
      "image/png": "[encoded data removed]",
      "text/plain": [
       "<Figure size 432x288 with 1 Axes>"
      ]
     },
     "metadata": {
      "needs_background": "light"
     },
     "output_type": "display_data"
    }
   ],
   "source": [
    "plt.plot(co2_emission_data['Date'],co2_emission_data['CO2'],label='Data',color='darkorange')\n",
    "plt.plot(co2_emission_data['Date'],model(X),label='Model',color='firebrick')\n",
    "plt.xlabel('Date')\n",
    "plt.ylabel('CO2')\n",
    "plt.legend()\n",
    "plt.title('Years wise CO2 Eission')"
   ]
  },
  {
   "cell_type": "markdown",
   "id": "0fe0b81d",
   "metadata": {},
   "source": [
    "#### Insights\n",
    "#### 1. In between year of 1800-1880, has low co2 emission.\n",
    "#### 2. After that it has started high voulm of Co2 emision by every year.\n",
    "#### 3. After 2000 we can able to see some slightly decrease in CO2 emmision"
   ]
  },
  {
   "cell_type": "code",
   "execution_count": 1092,
   "id": "72dee8ea",
   "metadata": {},
   "outputs": [
    {
     "data": {
      "text/html": [
       "<div>\n",
       "<style scoped>\n",
       "    .dataframe tbody tr th:only-of-type {\n",
       "        vertical-align: middle;\n",
       "    }\n",
       "\n",
       "    .dataframe tbody tr th {\n",
       "        vertical-align: top;\n",
       "    }\n",
       "\n",
       "    .dataframe thead th {\n",
       "        text-align: right;\n",
       "    }\n",
       "</style>\n",
       "<table border=\"1\" class=\"dataframe\">\n",
       "  <thead>\n",
       "    <tr style=\"text-align: right;\">\n",
       "      <th></th>\n",
       "      <th>CO2</th>\n",
       "    </tr>\n",
       "    <tr>\n",
       "      <th>Date</th>\n",
       "      <th></th>\n",
       "    </tr>\n",
       "  </thead>\n",
       "  <tbody>\n",
       "    <tr>\n",
       "      <th>1800-01-01</th>\n",
       "      <td>0.00568</td>\n",
       "    </tr>\n",
       "    <tr>\n",
       "      <th>1801-01-01</th>\n",
       "      <td>0.00561</td>\n",
       "    </tr>\n",
       "    <tr>\n",
       "      <th>1802-01-01</th>\n",
       "      <td>0.00555</td>\n",
       "    </tr>\n",
       "    <tr>\n",
       "      <th>1803-01-01</th>\n",
       "      <td>0.00548</td>\n",
       "    </tr>\n",
       "    <tr>\n",
       "      <th>1804-01-01</th>\n",
       "      <td>0.00542</td>\n",
       "    </tr>\n",
       "    <tr>\n",
       "      <th>...</th>\n",
       "      <td>...</td>\n",
       "    </tr>\n",
       "    <tr>\n",
       "      <th>2010-01-01</th>\n",
       "      <td>15.60000</td>\n",
       "    </tr>\n",
       "    <tr>\n",
       "      <th>2011-01-01</th>\n",
       "      <td>15.60000</td>\n",
       "    </tr>\n",
       "    <tr>\n",
       "      <th>2012-01-01</th>\n",
       "      <td>14.80000</td>\n",
       "    </tr>\n",
       "    <tr>\n",
       "      <th>2013-01-01</th>\n",
       "      <td>14.70000</td>\n",
       "    </tr>\n",
       "    <tr>\n",
       "      <th>2014-01-01</th>\n",
       "      <td>15.10000</td>\n",
       "    </tr>\n",
       "  </tbody>\n",
       "</table>\n",
       "<p>215 rows × 1 columns</p>\n",
       "</div>"
      ],
      "text/plain": [
       "                 CO2\n",
       "Date                \n",
       "1800-01-01   0.00568\n",
       "1801-01-01   0.00561\n",
       "1802-01-01   0.00555\n",
       "1803-01-01   0.00548\n",
       "1804-01-01   0.00542\n",
       "...              ...\n",
       "2010-01-01  15.60000\n",
       "2011-01-01  15.60000\n",
       "2012-01-01  14.80000\n",
       "2013-01-01  14.70000\n",
       "2014-01-01  15.10000\n",
       "\n",
       "[215 rows x 1 columns]"
      ]
     },
     "execution_count": 1092,
     "metadata": {},
     "output_type": "execute_result"
    }
   ],
   "source": [
    "temp_co2_emission_data = co2_emission_data.set_index('Date')\n",
    "temp_co2_emission_data"
   ]
  },
  {
   "cell_type": "code",
   "execution_count": 1093,
   "id": "446bbed7",
   "metadata": {},
   "outputs": [
    {
     "data": {
      "image/png": "[encoded data removed]",
      "text/plain": [
       "<Figure size 432x288 with 1 Axes>"
      ]
     },
     "metadata": {
      "needs_background": "light"
     },
     "output_type": "display_data"
    }
   ],
   "source": [
    "from pandas.plotting import autocorrelation_plot\n",
    "autocorrelation_plot(temp_co2_emission_data['CO2'])\n",
    "plt.show() "
   ]
  },
  {
   "cell_type": "markdown",
   "id": "cac3ae6c",
   "metadata": {},
   "source": [
    "### Seasonality"
   ]
  },
  {
   "cell_type": "code",
   "execution_count": 1094,
   "id": "f359b13c",
   "metadata": {},
   "outputs": [
    {
     "data": {
      "image/png": "[encoded data removed]",
      "text/plain": [
       "<Figure size 432x288 with 4 Axes>"
      ]
     },
     "metadata": {
      "needs_background": "light"
     },
     "output_type": "display_data"
    }
   ],
   "source": [
    "analysis = temp_co2_emission_data[['CO2']].copy()\n",
    "decompose_result_mult = seasonal_decompose(analysis, model=\"multiplicative\")\n",
    "\n",
    "trend = decompose_result_mult.trend\n",
    "seasonal = decompose_result_mult.seasonal\n",
    "residual = decompose_result_mult.resid\n",
    "\n",
    "decompose_result_mult.plot();\n"
   ]
  },
  {
   "cell_type": "code",
   "execution_count": 1095,
   "id": "9ccf1323",
   "metadata": {},
   "outputs": [
    {
     "data": {
      "text/plain": [
       "Text(0.5, 1.0, 'Seasonal Data of Last 5 years CO2 Emission')"
      ]
     },
     "execution_count": 1095,
     "metadata": {},
     "output_type": "execute_result"
    },
    {
     "data": {
      "image/png": "[encoded data removed]",
      "text/plain": [
       "<Figure size 432x288 with 1 Axes>"
      ]
     },
     "metadata": {
      "needs_background": "light"
     },
     "output_type": "display_data"
    }
   ],
   "source": [
    "decompose_result_mult.seasonal['2004':'2014'].plot();\n",
    "plt.xlabel(\"Year\")\n",
    "plt.title(\"Seasonal Data of Last 5 years CO2 Emission\")"
   ]
  },
  {
   "cell_type": "code",
   "execution_count": 1096,
   "id": "d8ffbba4",
   "metadata": {},
   "outputs": [
    {
     "data": {
      "text/plain": [
       "Text(0.5, 1.0, 'Trend Data of Last 10 years CO2 Emission')"
      ]
     },
     "execution_count": 1096,
     "metadata": {},
     "output_type": "execute_result"
    },
    {
     "data": {
      "image/png": "[encoded data removed]",
      "text/plain": [
       "<Figure size 432x288 with 1 Axes>"
      ]
     },
     "metadata": {
      "needs_background": "light"
     },
     "output_type": "display_data"
    }
   ],
   "source": [
    "decompose_result_mult.trend['2004':'2014'].plot();\n",
    "plt.xlabel(\"Year\")\n",
    "plt.title(\"Trend Data of Last 10 years CO2 Emission\")"
   ]
  },
  {
   "cell_type": "markdown",
   "id": "b8e10f93",
   "metadata": {},
   "source": [
    "#### Yearwise Trend occured."
   ]
  },
  {
   "cell_type": "code",
   "execution_count": 1097,
   "id": "2460e225",
   "metadata": {},
   "outputs": [
    {
     "data": {
      "image/png": "[encoded data removed]",
      "text/plain": [
       "<Figure size 432x288 with 1 Axes>"
      ]
     },
     "metadata": {
      "needs_background": "light"
     },
     "output_type": "display_data"
    },
    {
     "data": {
      "text/plain": [
       "Test Statistic                  -0.438968\n",
       "p-value                          0.903386\n",
       "#Lags Used                       0.000000\n",
       "Number of Observations Used    212.000000\n",
       "dtype: float64"
      ]
     },
     "execution_count": 1097,
     "metadata": {},
     "output_type": "execute_result"
    }
   ],
   "source": [
    "# Visualize CO2 emissions  since 1800,\n",
    "# including 5-year rolling mean and rolling standard deviation\n",
    "\n",
    "roll_mean = temp_co2_emission_data.rolling(window=5, center=False).mean()\n",
    "roll_std = temp_co2_emission_data.rolling(window=5, center=False).std()\n",
    "\n",
    "plt.plot(temp_co2_emission_data,color='mediumseagreen', label='Original')\n",
    "plt.plot(roll_mean, color='mediumblue', label='Rolling Mean')\n",
    "plt.plot(roll_std, color='orangered', label = 'Rolling Std')\n",
    "plt.legend(loc='best')\n",
    "plt.title('Rolling Mean & Standard Deviation')\n",
    "plt.xlabel('Year')\n",
    "plt.ylabel('CO2')\n",
    "plt.show(block=False)\n",
    "\n",
    "# Dickey-Fuller test\n",
    "test = adfuller(temp_co2_emission_data['CO2'][1:-1])\n",
    "dfoutput = pd.Series(test[0:4], index=['Test Statistic','p-value','#Lags Used','Number of Observations Used'])\n",
    "dfoutput"
   ]
  },
  {
   "cell_type": "markdown",
   "id": "5fb4cdbd",
   "metadata": {},
   "source": [
    "#### 1. With a p value of 0.903386, we cannot reject the null hypothesis that this data is Non-stationary. We will remedy this below before fitting our model.\n",
    "#### 2. Data is Non-stationary"
   ]
  },
  {
   "cell_type": "markdown",
   "id": "25787b16",
   "metadata": {},
   "source": [
    "### Convertion of Non Stationary to Stationary"
   ]
  },
  {
   "cell_type": "markdown",
   "id": "98b4c77e",
   "metadata": {},
   "source": [
    "### Log Transformation"
   ]
  },
  {
   "cell_type": "code",
   "execution_count": 1098,
   "id": "3ab9ef2e",
   "metadata": {},
   "outputs": [
    {
     "data": {
      "image/png": "[encoded data removed]",
      "text/plain": [
       "<Figure size 432x288 with 1 Axes>"
      ]
     },
     "metadata": {
      "needs_background": "light"
     },
     "output_type": "display_data"
    },
    {
     "data": {
      "text/plain": [
       "Test Statistic                  -1.369411\n",
       "p-value                          0.596850\n",
       "#Lags Used                       1.000000\n",
       "Number of Observations Used    211.000000\n",
       "dtype: float64"
      ]
     },
     "execution_count": 1098,
     "metadata": {},
     "output_type": "execute_result"
    }
   ],
   "source": [
    "# Log transformation to address lack of variance and covariance\n",
    "# Create new df that contains the logged values of the original one\n",
    "log_co2_emission_data = log(temp_co2_emission_data)\n",
    "\n",
    "# Visualize logged data, including 5-year rolling mean and standard deviation\n",
    "roll_mean_log = log_co2_emission_data.rolling(window=5, center=False).mean()\n",
    "roll_std_log = log_co2_emission_data.rolling(window=5, center=False).std()\n",
    "\n",
    "plt.plot(log_co2_emission_data,color='mediumseagreen', label='Original')\n",
    "plt.plot(roll_mean_log, color='mediumblue', label='Rolling Mean')\n",
    "plt.plot(roll_std_log, color='orangered', label = 'Rolling Std')\n",
    "plt.legend(loc='best')\n",
    "plt.title('Rolling Mean & Standard Deviation, Logged Data')\n",
    "plt.xlabel('Year')\n",
    "plt.ylabel('Logged CO2')\n",
    "plt.show(block=False)\n",
    "\n",
    "# Dickey-Fuller test\n",
    "test = adfuller(log_co2_emission_data['CO2'][1:-1])\n",
    "dfoutput = pd.Series(test[0:4], index=['Test Statistic','p-value','#Lags Used','Number of Observations Used'])\n",
    "dfoutput"
   ]
  },
  {
   "cell_type": "markdown",
   "id": "9c5f235a",
   "metadata": {},
   "source": [
    "#### Though our p-value of 0.596850 , we cannot  to reject the null hypothesis that this data is unstationary, since there is very clearly an non-constant mean, we will try another way to achieve true stationarity."
   ]
  },
  {
   "cell_type": "code",
   "execution_count": 1099,
   "id": "609f2734",
   "metadata": {},
   "outputs": [
    {
     "data": {
      "image/png": "[encoded data removed]",
      "text/plain": [
       "<Figure size 432x288 with 1 Axes>"
      ]
     },
     "metadata": {
      "needs_background": "light"
     },
     "output_type": "display_data"
    },
    {
     "data": {
      "text/plain": [
       "Test Statistic                -6.081496e+00\n",
       "p-value                        1.089454e-07\n",
       "#Lags Used                     1.000000e+00\n",
       "Number of Observations Used    2.070000e+02\n",
       "dtype: float64"
      ]
     },
     "execution_count": 1099,
     "metadata": {},
     "output_type": "execute_result"
    }
   ],
   "source": [
    "# Subtract rolling mean from log-transformed data\n",
    "log_minus_rollmean = log_co2_emission_data - roll_mean_log\n",
    "\n",
    "# Drop null values\n",
    "log_minus_rollmean.dropna(axis=0,inplace=True)\n",
    "\n",
    "# Plot data\n",
    "plt.plot(log_minus_rollmean, color='mediumseagreen')\n",
    "plt.title('Logged Data Minus Rolling Mean')\n",
    "plt.xlabel('Year')\n",
    "plt.ylabel('Logged CO2 Minus Rolling Mean')\n",
    "plt.show(block=False)\n",
    "\n",
    "# Dickey-Fuller test on logged data minus rolling mean\n",
    "test = adfuller(log_minus_rollmean['CO2'][1:-1])\n",
    "dfoutput = pd.Series(test[0:4], index=['Test Statistic','p-value','#Lags Used','Number of Observations Used'])\n",
    "dfoutput"
   ]
  },
  {
   "cell_type": "markdown",
   "id": "18c9ef47",
   "metadata": {},
   "source": [
    "####  This data looks much more stationary based on its plot and its Dickey-Fuller test also yielded a very low p-value, indicating that we can confidently reject the null hypothesis that the data is non-stationary."
   ]
  },
  {
   "cell_type": "markdown",
   "id": "4dcef2e7",
   "metadata": {},
   "source": [
    "### Differencing"
   ]
  },
  {
   "cell_type": "code",
   "execution_count": 1100,
   "id": "3978130f",
   "metadata": {},
   "outputs": [
    {
     "data": {
      "image/png": "[encoded data removed]",
      "text/plain": [
       "<Figure size 432x288 with 1 Axes>"
      ]
     },
     "metadata": {
      "needs_background": "light"
     },
     "output_type": "display_data"
    },
    {
     "data": {
      "text/plain": [
       "Test Statistic                  -3.689243\n",
       "p-value                          0.004267\n",
       "#Lags Used                      15.000000\n",
       "Number of Observations Used    197.000000\n",
       "dtype: float64"
      ]
     },
     "execution_count": 1100,
     "metadata": {},
     "output_type": "execute_result"
    }
   ],
   "source": [
    "# Difference original df\n",
    "diff = temp_co2_emission_data.diff().rename(index=str, columns={\"CO2\": \"Differenced Observations\"})\n",
    "\n",
    "# Visualize differenced data, including 5-year rolling mean and standard deviation\n",
    "roll_mean_diff = diff.rolling(window=5, center=False).mean()\n",
    "roll_std_diff = diff.rolling(window=5, center=False).std()\n",
    "\n",
    "plt.plot(diff,color='mediumseagreen', label='Original')\n",
    "plt.plot(roll_mean_diff, color='mediumblue', label='Rolling Mean')\n",
    "plt.plot(roll_std_diff, color='orangered', label = 'Rolling Std')\n",
    "plt.legend(loc='best')\n",
    "plt.title('Rolling Mean & Standard Deviation, Differenced Data')\n",
    "plt.xlabel('Differenced Year')\n",
    "plt.ylabel('Differenced CO2')\n",
    "plt.show(block=False)\n",
    "\n",
    "# Dickey-Fuller test on differenced data\n",
    "test = adfuller(diff['Differenced Observations'][1:-1])\n",
    "dfoutput = pd.Series(test[0:4], index=['Test Statistic','p-value','#Lags Used','Number of Observations Used'])\n",
    "dfoutput"
   ]
  },
  {
   "cell_type": "markdown",
   "id": "088f9dd0",
   "metadata": {},
   "source": [
    "#### Based on the above p-value of 1.458911e-23, we see that we have achieved stationarity by differencing once. We will keep this in mind as we test d values in our ARIMA model below."
   ]
  },
  {
   "cell_type": "markdown",
   "id": "f49a1601",
   "metadata": {},
   "source": [
    "#### data is stationary"
   ]
  },
  {
   "cell_type": "markdown",
   "id": "c6e1946f",
   "metadata": {},
   "source": [
    "### Modeling"
   ]
  },
  {
   "cell_type": "markdown",
   "id": "60e9cd47",
   "metadata": {},
   "source": [
    "#### ACF and PACF for Logged Data"
   ]
  },
  {
   "cell_type": "code",
   "execution_count": 1101,
   "id": "7b0969f9",
   "metadata": {},
   "outputs": [
    {
     "data": {
      "image/png": "[encoded data removed]",
      "text/plain": [
       "<Figure size 432x288 with 1 Axes>"
      ]
     },
     "metadata": {
      "needs_background": "light"
     },
     "output_type": "display_data"
    },
    {
     "data": {
      "image/png": "[encoded data removed]",
      "text/plain": [
       "<Figure size 432x288 with 1 Axes>"
      ]
     },
     "metadata": {
      "needs_background": "light"
     },
     "output_type": "display_data"
    }
   ],
   "source": [
    "# ACF for logged data\n",
    "plot_acf(log_co2_emission_data[:-1], alpha=.05);\n",
    "\n",
    "# PACF for logged data\n",
    "plot_pacf(log_co2_emission_data[:-1], alpha=.05, lags=20);"
   ]
  },
  {
   "cell_type": "markdown",
   "id": "54681866",
   "metadata": {},
   "source": [
    "#### This data displays an AR signature since the ACF diminishes gradually and the PACF cuts off sharply. This tells us we would expect to have at least one AR parameter.\n",
    "#### When instantiating an ARIMA model, we would expect a relatively large number of MA terms due to the large number of significant ACF points and a relatively small number of AR terms due to the small number of significant PACF points."
   ]
  },
  {
   "cell_type": "markdown",
   "id": "a459a5c6",
   "metadata": {},
   "source": [
    "### Split Data into Train and Test### Split Data into Train and Test"
   ]
  },
  {
   "cell_type": "code",
   "execution_count": 1102,
   "id": "5d022928",
   "metadata": {},
   "outputs": [
    {
     "name": "stdout",
     "output_type": "stream",
     "text": [
      "X_train Shape (172,)\n",
      "y_train Shape (172,)\n",
      "X_test Shape (43,)\n",
      "y_test Shape (43,)\n"
     ]
    },
    {
     "data": {
      "image/png": "[encoded data removed]",
      "text/plain": [
       "<Figure size 720x432 with 1 Axes>"
      ]
     },
     "metadata": {
      "needs_background": "light"
     },
     "output_type": "display_data"
    }
   ],
   "source": [
    "split_data = dict()\n",
    "def split_data_fn(co2_emission_log):\n",
    "    co2_train_data, co2_test_data = co2_emission_log[0:int(len(co2_emission_log)*0.8)], co2_emission_log[int(len(co2_emission_log)*0.8):]\n",
    "    plt.figure(figsize=(10,6))\n",
    "    plt.grid(True)\n",
    "    plt.xlabel('Dates')\n",
    "    plt.ylabel('Closing Prices')\n",
    "    plt.plot(co2_train_data, 'green', label='Train data')\n",
    "    plt.plot(co2_test_data, 'blue', label='Test data')\n",
    "    plt.legend()\n",
    "    X_train, X_test = co2_train_data.index , co2_test_data.index\n",
    "    y_train, y_test = co2_train_data['CO2'] , co2_test_data['CO2']\n",
    "    print(\"X_train Shape\",X_train.shape)\n",
    "    print(\"y_train Shape\",y_train.shape)\n",
    "    print(\"X_test Shape\",X_test.shape)\n",
    "    print(\"y_test Shape\",y_test.shape)\n",
    "    return X_train, X_test,y_train, y_test,co2_train_data, co2_test_data \n",
    "X_train, X_test,y_train, y_test,co2_train_data, co2_test_data  = split_data_fn(log_co2_emission_data)"
   ]
  },
  {
   "cell_type": "code",
   "execution_count": 1103,
   "id": "87e7e223",
   "metadata": {},
   "outputs": [
    {
     "data": {
      "text/plain": [
       "Date\n",
       "1800-01-01   -5.170804\n",
       "1801-01-01   -5.183205\n",
       "1802-01-01   -5.193957\n",
       "1803-01-01   -5.206650\n",
       "1804-01-01   -5.217659\n",
       "                ...   \n",
       "1967-01-01    2.624669\n",
       "1968-01-01    2.681022\n",
       "1969-01-01    2.681022\n",
       "1970-01-01    2.766319\n",
       "1971-01-01    2.785011\n",
       "Name: CO2, Length: 172, dtype: float64"
      ]
     },
     "execution_count": 1103,
     "metadata": {},
     "output_type": "execute_result"
    }
   ],
   "source": [
    "y_train"
   ]
  },
  {
   "cell_type": "markdown",
   "id": "4b92b142",
   "metadata": {},
   "source": [
    "### ARMA Model for Logged Data - p=1, q=1,d=0"
   ]
  },
  {
   "cell_type": "code",
   "execution_count": 1104,
   "id": "4e3f23cf",
   "metadata": {},
   "outputs": [
    {
     "name": "stdout",
     "output_type": "stream",
     "text": [
      "                              ARMA Model Results                              \n",
      "==============================================================================\n",
      "Dep. Variable:                    CO2   No. Observations:                  172\n",
      "Model:                     ARMA(1, 0)   Log Likelihood                  29.244\n",
      "Method:                       css-mle   S.D. of innovations              0.201\n",
      "Date:                Fri, 26 Aug 2022   AIC                            -52.488\n",
      "Time:                        23:23:30   BIC                            -43.046\n",
      "Sample:                    01-01-1800   HQIC                           -48.657\n",
      "                         - 01-01-1971                                         \n",
      "==============================================================================\n",
      "                 coef    std err          z      P>|z|      [0.025      0.975]\n",
      "------------------------------------------------------------------------------\n",
      "const         -1.1619      3.659     -0.318      0.751      -8.334       6.010\n",
      "ar.L1.CO2      0.9987      0.002    564.685      0.000       0.995       1.002\n",
      "                                    Roots                                    \n",
      "=============================================================================\n",
      "                  Real          Imaginary           Modulus         Frequency\n",
      "-----------------------------------------------------------------------------\n",
      "AR.1            1.0014           +0.0000j            1.0014            0.0000\n",
      "-----------------------------------------------------------------------------\n"
     ]
    }
   ],
   "source": [
    "# Instantiate ARMA model for logged data\n",
    "\n",
    "# Instantiate model\n",
    "mod_ARMA = ARMA(co2_train_data, order=(1,0,1))\n",
    "\n",
    "# Fit Model\n",
    "mod_ARMA_fit = mod_ARMA.fit()\n",
    "\n",
    "# Obeserve summary statistics\n",
    "\n",
    "print(mod_ARMA_fit.summary())"
   ]
  },
  {
   "cell_type": "markdown",
   "id": "3f867767",
   "metadata": {},
   "source": [
    "### Model forecasting"
   ]
  },
  {
   "cell_type": "code",
   "execution_count": 1105,
   "id": "a87adf7c",
   "metadata": {},
   "outputs": [],
   "source": [
    "# Since Test data starts from 1972\n",
    "pred = mod_ARMA_fit.predict(start='1972-01-01', end='2014-01-01', dynamic=False)"
   ]
  },
  {
   "cell_type": "markdown",
   "id": "856a6924",
   "metadata": {},
   "source": [
    "### Determine  RMSE"
   ]
  },
  {
   "cell_type": "code",
   "execution_count": 1106,
   "id": "1c5f8312",
   "metadata": {},
   "outputs": [
    {
     "name": "stdout",
     "output_type": "stream",
     "text": [
      "RMSE score for ARMA model on logged data:  11.70289145027659\n"
     ]
    }
   ],
   "source": [
    "from sklearn import metrics\n",
    "def RMSE_log(pred):\n",
    "    return np.sqrt(metrics.mean_squared_error(y_test,np.e**pred))\n",
    "\n",
    "ARMA_RMSE  = RMSE_log(pred)\n",
    "print('RMSE score for ARMA model on logged data: ',ARMA_RMSE)"
   ]
  },
  {
   "cell_type": "code",
   "execution_count": 1107,
   "id": "952769fa",
   "metadata": {},
   "outputs": [
    {
     "data": {
      "image/png": "[encoded data removed]",
      "text/plain": [
       "<Figure size 432x288 with 1 Axes>"
      ]
     },
     "metadata": {
      "needs_background": "light"
     },
     "output_type": "display_data"
    }
   ],
   "source": [
    "# Visualize prediction\n",
    "# This shows our model's predicted values vs actual values for the train data\n",
    "mod_ARMA_fit.plot_predict();"
   ]
  },
  {
   "cell_type": "code",
   "execution_count": 1108,
   "id": "84062b23",
   "metadata": {},
   "outputs": [
    {
     "data": {
      "image/png": "[encoded data removed]",
      "text/plain": [
       "<Figure size 432x288 with 1 Axes>"
      ]
     },
     "metadata": {
      "needs_background": "light"
     },
     "output_type": "display_data"
    }
   ],
   "source": [
    "# Visualize residuals/error\n",
    "residuals = pd.DataFrame(mod_ARMA_fit.resid)\n",
    "residuals.plot(color='royalblue')\n",
    "plt.show();"
   ]
  },
  {
   "cell_type": "markdown",
   "id": "a0fdb4d5",
   "metadata": {},
   "source": [
    "#### Based on the above, we see that this model has minimal error, with a mean of approximately 0."
   ]
  },
  {
   "cell_type": "code",
   "execution_count": 1109,
   "id": "7d22e5f7",
   "metadata": {},
   "outputs": [
    {
     "data": {
      "image/png": "[encoded data removed]",
      "text/plain": [
       "<Figure size 432x288 with 1 Axes>"
      ]
     },
     "metadata": {
      "needs_background": "light"
     },
     "output_type": "display_data"
    }
   ],
   "source": [
    "# Check for linearity\n",
    "residuals = pd.DataFrame(mod_ARMA_fit.resid)\n",
    "residuals.plot(kind='kde', color='royalblue')\n",
    "plt.show()"
   ]
  },
  {
   "cell_type": "markdown",
   "id": "0ca7e694",
   "metadata": {},
   "source": [
    "#### Based on the above, we see that this model is linear, with a mean of approxmiately 0."
   ]
  },
  {
   "cell_type": "markdown",
   "id": "347d0604",
   "metadata": {},
   "source": [
    "#### Test prediction"
   ]
  },
  {
   "cell_type": "code",
   "execution_count": 1110,
   "id": "c044cd78",
   "metadata": {},
   "outputs": [
    {
     "data": {
      "text/html": [
       "<div>\n",
       "<style scoped>\n",
       "    .dataframe tbody tr th:only-of-type {\n",
       "        vertical-align: middle;\n",
       "    }\n",
       "\n",
       "    .dataframe tbody tr th {\n",
       "        vertical-align: top;\n",
       "    }\n",
       "\n",
       "    .dataframe thead th {\n",
       "        text-align: right;\n",
       "    }\n",
       "</style>\n",
       "<table border=\"1\" class=\"dataframe\">\n",
       "  <thead>\n",
       "    <tr style=\"text-align: right;\">\n",
       "      <th></th>\n",
       "      <th>Prediction</th>\n",
       "    </tr>\n",
       "    <tr>\n",
       "      <th>Date</th>\n",
       "      <th></th>\n",
       "    </tr>\n",
       "  </thead>\n",
       "  <tbody>\n",
       "    <tr>\n",
       "      <th>1972-01-01</th>\n",
       "      <td>16.113971</td>\n",
       "    </tr>\n",
       "    <tr>\n",
       "      <th>1973-01-01</th>\n",
       "      <td>16.028513</td>\n",
       "    </tr>\n",
       "    <tr>\n",
       "      <th>1974-01-01</th>\n",
       "      <td>15.943624</td>\n",
       "    </tr>\n",
       "    <tr>\n",
       "      <th>1975-01-01</th>\n",
       "      <td>15.859297</td>\n",
       "    </tr>\n",
       "    <tr>\n",
       "      <th>1976-01-01</th>\n",
       "      <td>15.77553</td>\n",
       "    </tr>\n",
       "    <tr>\n",
       "      <th>1977-01-01</th>\n",
       "      <td>15.692317</td>\n",
       "    </tr>\n",
       "    <tr>\n",
       "      <th>1978-01-01</th>\n",
       "      <td>15.609654</td>\n",
       "    </tr>\n",
       "    <tr>\n",
       "      <th>1979-01-01</th>\n",
       "      <td>15.527537</td>\n",
       "    </tr>\n",
       "    <tr>\n",
       "      <th>1980-01-01</th>\n",
       "      <td>15.445962</td>\n",
       "    </tr>\n",
       "    <tr>\n",
       "      <th>1981-01-01</th>\n",
       "      <td>15.364925</td>\n",
       "    </tr>\n",
       "    <tr>\n",
       "      <th>1982-01-01</th>\n",
       "      <td>15.284422</td>\n",
       "    </tr>\n",
       "    <tr>\n",
       "      <th>1983-01-01</th>\n",
       "      <td>15.204448</td>\n",
       "    </tr>\n",
       "    <tr>\n",
       "      <th>1984-01-01</th>\n",
       "      <td>15.124999</td>\n",
       "    </tr>\n",
       "    <tr>\n",
       "      <th>1985-01-01</th>\n",
       "      <td>15.046073</td>\n",
       "    </tr>\n",
       "    <tr>\n",
       "      <th>1986-01-01</th>\n",
       "      <td>14.967663</td>\n",
       "    </tr>\n",
       "    <tr>\n",
       "      <th>1987-01-01</th>\n",
       "      <td>14.889767</td>\n",
       "    </tr>\n",
       "    <tr>\n",
       "      <th>1988-01-01</th>\n",
       "      <td>14.812381</td>\n",
       "    </tr>\n",
       "    <tr>\n",
       "      <th>1989-01-01</th>\n",
       "      <td>14.735501</td>\n",
       "    </tr>\n",
       "    <tr>\n",
       "      <th>1990-01-01</th>\n",
       "      <td>14.659122</td>\n",
       "    </tr>\n",
       "    <tr>\n",
       "      <th>1991-01-01</th>\n",
       "      <td>14.583242</td>\n",
       "    </tr>\n",
       "    <tr>\n",
       "      <th>1992-01-01</th>\n",
       "      <td>14.507856</td>\n",
       "    </tr>\n",
       "    <tr>\n",
       "      <th>1993-01-01</th>\n",
       "      <td>14.432961</td>\n",
       "    </tr>\n",
       "    <tr>\n",
       "      <th>1994-01-01</th>\n",
       "      <td>14.358552</td>\n",
       "    </tr>\n",
       "    <tr>\n",
       "      <th>1995-01-01</th>\n",
       "      <td>14.284627</td>\n",
       "    </tr>\n",
       "    <tr>\n",
       "      <th>1996-01-01</th>\n",
       "      <td>14.211181</td>\n",
       "    </tr>\n",
       "    <tr>\n",
       "      <th>1997-01-01</th>\n",
       "      <td>14.138211</td>\n",
       "    </tr>\n",
       "    <tr>\n",
       "      <th>1998-01-01</th>\n",
       "      <td>14.065714</td>\n",
       "    </tr>\n",
       "    <tr>\n",
       "      <th>1999-01-01</th>\n",
       "      <td>13.993685</td>\n",
       "    </tr>\n",
       "    <tr>\n",
       "      <th>2000-01-01</th>\n",
       "      <td>13.922122</td>\n",
       "    </tr>\n",
       "    <tr>\n",
       "      <th>2001-01-01</th>\n",
       "      <td>13.851021</td>\n",
       "    </tr>\n",
       "    <tr>\n",
       "      <th>2002-01-01</th>\n",
       "      <td>13.780377</td>\n",
       "    </tr>\n",
       "    <tr>\n",
       "      <th>2003-01-01</th>\n",
       "      <td>13.710189</td>\n",
       "    </tr>\n",
       "    <tr>\n",
       "      <th>2004-01-01</th>\n",
       "      <td>13.640452</td>\n",
       "    </tr>\n",
       "    <tr>\n",
       "      <th>2005-01-01</th>\n",
       "      <td>13.571163</td>\n",
       "    </tr>\n",
       "    <tr>\n",
       "      <th>2006-01-01</th>\n",
       "      <td>13.502319</td>\n",
       "    </tr>\n",
       "    <tr>\n",
       "      <th>2007-01-01</th>\n",
       "      <td>13.433916</td>\n",
       "    </tr>\n",
       "    <tr>\n",
       "      <th>2008-01-01</th>\n",
       "      <td>13.365952</td>\n",
       "    </tr>\n",
       "    <tr>\n",
       "      <th>2009-01-01</th>\n",
       "      <td>13.298422</td>\n",
       "    </tr>\n",
       "    <tr>\n",
       "      <th>2010-01-01</th>\n",
       "      <td>13.231324</td>\n",
       "    </tr>\n",
       "    <tr>\n",
       "      <th>2011-01-01</th>\n",
       "      <td>13.164654</td>\n",
       "    </tr>\n",
       "    <tr>\n",
       "      <th>2012-01-01</th>\n",
       "      <td>13.09841</td>\n",
       "    </tr>\n",
       "    <tr>\n",
       "      <th>2013-01-01</th>\n",
       "      <td>13.032587</td>\n",
       "    </tr>\n",
       "    <tr>\n",
       "      <th>2014-01-01</th>\n",
       "      <td>12.967183</td>\n",
       "    </tr>\n",
       "  </tbody>\n",
       "</table>\n",
       "</div>"
      ],
      "text/plain": [
       "           Prediction\n",
       "Date                 \n",
       "1972-01-01  16.113971\n",
       "1973-01-01  16.028513\n",
       "1974-01-01  15.943624\n",
       "1975-01-01  15.859297\n",
       "1976-01-01   15.77553\n",
       "1977-01-01  15.692317\n",
       "1978-01-01  15.609654\n",
       "1979-01-01  15.527537\n",
       "1980-01-01  15.445962\n",
       "1981-01-01  15.364925\n",
       "1982-01-01  15.284422\n",
       "1983-01-01  15.204448\n",
       "1984-01-01  15.124999\n",
       "1985-01-01  15.046073\n",
       "1986-01-01  14.967663\n",
       "1987-01-01  14.889767\n",
       "1988-01-01  14.812381\n",
       "1989-01-01  14.735501\n",
       "1990-01-01  14.659122\n",
       "1991-01-01  14.583242\n",
       "1992-01-01  14.507856\n",
       "1993-01-01  14.432961\n",
       "1994-01-01  14.358552\n",
       "1995-01-01  14.284627\n",
       "1996-01-01  14.211181\n",
       "1997-01-01  14.138211\n",
       "1998-01-01  14.065714\n",
       "1999-01-01  13.993685\n",
       "2000-01-01  13.922122\n",
       "2001-01-01  13.851021\n",
       "2002-01-01  13.780377\n",
       "2003-01-01  13.710189\n",
       "2004-01-01  13.640452\n",
       "2005-01-01  13.571163\n",
       "2006-01-01  13.502319\n",
       "2007-01-01  13.433916\n",
       "2008-01-01  13.365952\n",
       "2009-01-01  13.298422\n",
       "2010-01-01  13.231324\n",
       "2011-01-01  13.164654\n",
       "2012-01-01   13.09841\n",
       "2013-01-01  13.032587\n",
       "2014-01-01  12.967183"
      ]
     },
     "execution_count": 1110,
     "metadata": {},
     "output_type": "execute_result"
    }
   ],
   "source": [
    "original_df = log_co2_emission_data[X_train.shape[0]:].reset_index()\n",
    "\n",
    "arma_predictions = pd.DataFrame(index=range(0,len(original_df)),columns=['Date','Prediction'])\n",
    "for i in range(0,len(original_df)):\n",
    "    arma_predictions['Date'][i] = original_df['Date'][i].date()\n",
    "    arma_predictions['Prediction'][i] = np.e**(pred[i])\n",
    "    \n",
    "arma_predictions.set_index('Date',inplace=True)    \n",
    "arma_predictions"
   ]
  },
  {
   "cell_type": "code",
   "execution_count": 1111,
   "id": "aad7dca8",
   "metadata": {},
   "outputs": [
    {
     "data": {
      "image/png": "[encoded data removed]",
      "text/plain": [
       "<Figure size 1200x500 with 1 Axes>"
      ]
     },
     "metadata": {
      "needs_background": "light"
     },
     "output_type": "display_data"
    }
   ],
   "source": [
    "#for plotting\n",
    "def create_lstm_forecasting():\n",
    "    plt.figure(figsize=(12,5), dpi=100)\n",
    "    #for plotting\n",
    "    train_data = np.e**(log_co2_emission_data[:X_train.shape[0]])\n",
    "    test_data = np.e**(log_co2_emission_data[X_train.shape[0]:])\n",
    "    plt.plot(train_data,label='training')\n",
    "    plt.plot(test_data, color = 'blue', label='Actual CO2 Emission')\n",
    "    plt.plot(arma_predictions, color = 'orange',label='Predicted CO2 Emission')\n",
    "    plt.title('CO2 Emission Prediction')\n",
    "    plt.xlabel('Year')\n",
    "    plt.ylabel('Actual CO2 Emission')\n",
    "    plt.legend(loc='upper left', fontsize=8)\n",
    "    plt.show()\n",
    "create_lstm_forecasting()"
   ]
  },
  {
   "cell_type": "markdown",
   "id": "4e1da641",
   "metadata": {},
   "source": [
    "#### LSTM Model"
   ]
  },
  {
   "cell_type": "code",
   "execution_count": 1112,
   "id": "8580c67c",
   "metadata": {},
   "outputs": [],
   "source": [
    "dataset = log_co2_emission_data.CO2.values #numpy.ndarray\n",
    "dataset = dataset.astype('float32')\n",
    "dataset = np.reshape(dataset, (-1, 1))\n",
    "scaler  = MinMaxScaler(feature_range=(0, 1))\n",
    "dataset = scaler.fit_transform(dataset)\n",
    "train_size = int(len(dataset) * 0.80)\n",
    "test_size = len(dataset) - train_size\n",
    "train, test = dataset[0:train_size,:], dataset[train_size:len(dataset),:]\n",
    "\n",
    "\n",
    "def split_sequence(sequence, n_steps):\n",
    "    X, y = list(), list()\n",
    "    for i in range(len(sequence)):\n",
    "        # find the end of this pattern\n",
    "        end_ix = i + n_steps\n",
    "        # check if we are beyond the sequence\n",
    "        if end_ix > len(sequence)-1:\n",
    "            break\n",
    "        # gather input and output parts of the pattern\n",
    "        seq_x, seq_y = sequence[i:end_ix], sequence[end_ix]\n",
    "        X.append(seq_x)\n",
    "        y.append(seq_y)\n",
    "    return np.array(X), np.array(y)\n",
    " \n",
    "# define input sequence\n",
    "raw_seq = train\n",
    "# choose a number of time steps\n",
    "n_steps = 1\n",
    "# split into samples\n",
    "X, y = split_sequence(raw_seq, n_steps)\n",
    "\n",
    "n_features = 1\n",
    "X = X.reshape((X.shape[0], X.shape[1], n_features))"
   ]
  },
  {
   "cell_type": "code",
   "execution_count": 1113,
   "id": "abac61e3",
   "metadata": {},
   "outputs": [
    {
     "name": "stdout",
     "output_type": "stream",
     "text": [
      "Model: \"sequential_68\"\n",
      "_________________________________________________________________\n",
      " Layer (type)                Output Shape              Param #   \n",
      "=================================================================\n",
      " lstm_69 (LSTM)              (None, 50)                10400     \n",
      "                                                                 \n",
      " dense_50 (Dense)            (None, 1)                 51        \n",
      "                                                                 \n",
      "=================================================================\n",
      "Total params: 10,451\n",
      "Trainable params: 10,451\n",
      "Non-trainable params: 0\n",
      "_________________________________________________________________\n"
     ]
    }
   ],
   "source": [
    "model = Sequential()\n",
    "model.add(LSTM(50, activation='relu', input_shape=(n_steps, n_features)))\n",
    "model.add(Dense(1))\n",
    "model.compile(optimizer='adam', loss='mse')\n",
    "# fit model\n",
    "history = model.fit(X, y, epochs=100, verbose=0)\n",
    "model.summary()"
   ]
  },
  {
   "cell_type": "code",
   "execution_count": 1114,
   "id": "b4e521a3",
   "metadata": {},
   "outputs": [],
   "source": [
    "x_input = test\n",
    "x_input = x_input.reshape((test.shape[0], n_steps, n_features))\n",
    "pred = model.predict(x_input, verbose=0)\n",
    "pred = np.e**(scaler.inverse_transform(pred))"
   ]
  },
  {
   "cell_type": "code",
   "execution_count": 1115,
   "id": "6c6e591f",
   "metadata": {},
   "outputs": [
    {
     "data": {
      "image/png": "[encoded data removed]",
      "text/plain": [
       "<Figure size 576x288 with 1 Axes>"
      ]
     },
     "metadata": {
      "needs_background": "light"
     },
     "output_type": "display_data"
    }
   ],
   "source": [
    "plt.figure(figsize=(8,4))\n",
    "plt.plot(history.history['loss'], label='Train Loss')\n",
    "plt.title('model loss')\n",
    "plt.ylabel('loss')\n",
    "plt.xlabel('epochs')\n",
    "plt.legend(loc='upper right')\n",
    "plt.show();"
   ]
  },
  {
   "cell_type": "code",
   "execution_count": 1116,
   "id": "2b8f2086",
   "metadata": {},
   "outputs": [
    {
     "data": {
      "text/html": [
       "<div>\n",
       "<style scoped>\n",
       "    .dataframe tbody tr th:only-of-type {\n",
       "        vertical-align: middle;\n",
       "    }\n",
       "\n",
       "    .dataframe tbody tr th {\n",
       "        vertical-align: top;\n",
       "    }\n",
       "\n",
       "    .dataframe thead th {\n",
       "        text-align: right;\n",
       "    }\n",
       "</style>\n",
       "<table border=\"1\" class=\"dataframe\">\n",
       "  <thead>\n",
       "    <tr style=\"text-align: right;\">\n",
       "      <th></th>\n",
       "      <th>Prediction</th>\n",
       "    </tr>\n",
       "    <tr>\n",
       "      <th>Date</th>\n",
       "      <th></th>\n",
       "    </tr>\n",
       "  </thead>\n",
       "  <tbody>\n",
       "    <tr>\n",
       "      <th>1972-01-01</th>\n",
       "      <td>14.256156</td>\n",
       "    </tr>\n",
       "    <tr>\n",
       "      <th>1973-01-01</th>\n",
       "      <td>14.086298</td>\n",
       "    </tr>\n",
       "    <tr>\n",
       "      <th>1974-01-01</th>\n",
       "      <td>14.171203</td>\n",
       "    </tr>\n",
       "    <tr>\n",
       "      <th>1975-01-01</th>\n",
       "      <td>14.256156</td>\n",
       "    </tr>\n",
       "    <tr>\n",
       "      <th>1976-01-01</th>\n",
       "      <td>14.086298</td>\n",
       "    </tr>\n",
       "    <tr>\n",
       "      <th>1977-01-01</th>\n",
       "      <td>14.256156</td>\n",
       "    </tr>\n",
       "    <tr>\n",
       "      <th>1978-01-01</th>\n",
       "      <td>14.34114</td>\n",
       "    </tr>\n",
       "    <tr>\n",
       "      <th>1979-01-01</th>\n",
       "      <td>15.107539</td>\n",
       "    </tr>\n",
       "    <tr>\n",
       "      <th>1980-01-01</th>\n",
       "      <td>15.02225</td>\n",
       "    </tr>\n",
       "    <tr>\n",
       "      <th>1981-01-01</th>\n",
       "      <td>14.34114</td>\n",
       "    </tr>\n",
       "    <tr>\n",
       "      <th>1982-01-01</th>\n",
       "      <td>13.746984</td>\n",
       "    </tr>\n",
       "    <tr>\n",
       "      <th>1983-01-01</th>\n",
       "      <td>13.408234</td>\n",
       "    </tr>\n",
       "    <tr>\n",
       "      <th>1984-01-01</th>\n",
       "      <td>13.746984</td>\n",
       "    </tr>\n",
       "    <tr>\n",
       "      <th>1985-01-01</th>\n",
       "      <td>13.492869</td>\n",
       "    </tr>\n",
       "    <tr>\n",
       "      <th>1986-01-01</th>\n",
       "      <td>12.816767</td>\n",
       "    </tr>\n",
       "    <tr>\n",
       "      <th>1987-01-01</th>\n",
       "      <td>13.408234</td>\n",
       "    </tr>\n",
       "    <tr>\n",
       "      <th>1988-01-01</th>\n",
       "      <td>14.001409</td>\n",
       "    </tr>\n",
       "    <tr>\n",
       "      <th>1989-01-01</th>\n",
       "      <td>14.086298</td>\n",
       "    </tr>\n",
       "    <tr>\n",
       "      <th>1990-01-01</th>\n",
       "      <td>12.985575</td>\n",
       "    </tr>\n",
       "    <tr>\n",
       "      <th>1991-01-01</th>\n",
       "      <td>12.563828</td>\n",
       "    </tr>\n",
       "    <tr>\n",
       "      <th>1992-01-01</th>\n",
       "      <td>12.816767</td>\n",
       "    </tr>\n",
       "    <tr>\n",
       "      <th>1993-01-01</th>\n",
       "      <td>12.816767</td>\n",
       "    </tr>\n",
       "    <tr>\n",
       "      <th>1994-01-01</th>\n",
       "      <td>12.985575</td>\n",
       "    </tr>\n",
       "    <tr>\n",
       "      <th>1995-01-01</th>\n",
       "      <td>13.154533</td>\n",
       "    </tr>\n",
       "    <tr>\n",
       "      <th>1996-01-01</th>\n",
       "      <td>13.408234</td>\n",
       "    </tr>\n",
       "    <tr>\n",
       "      <th>1997-01-01</th>\n",
       "      <td>13.746984</td>\n",
       "    </tr>\n",
       "    <tr>\n",
       "      <th>1998-01-01</th>\n",
       "      <td>13.916546</td>\n",
       "    </tr>\n",
       "    <tr>\n",
       "      <th>1999-01-01</th>\n",
       "      <td>14.001409</td>\n",
       "    </tr>\n",
       "    <tr>\n",
       "      <th>2000-01-01</th>\n",
       "      <td>14.426149</td>\n",
       "    </tr>\n",
       "    <tr>\n",
       "      <th>2001-01-01</th>\n",
       "      <td>14.086298</td>\n",
       "    </tr>\n",
       "    <tr>\n",
       "      <th>2002-01-01</th>\n",
       "      <td>13.746984</td>\n",
       "    </tr>\n",
       "    <tr>\n",
       "      <th>2003-01-01</th>\n",
       "      <td>14.511207</td>\n",
       "    </tr>\n",
       "    <tr>\n",
       "      <th>2004-01-01</th>\n",
       "      <td>14.34114</td>\n",
       "    </tr>\n",
       "    <tr>\n",
       "      <th>2005-01-01</th>\n",
       "      <td>14.34114</td>\n",
       "    </tr>\n",
       "    <tr>\n",
       "      <th>2006-01-01</th>\n",
       "      <td>13.831756</td>\n",
       "    </tr>\n",
       "    <tr>\n",
       "      <th>2007-01-01</th>\n",
       "      <td>13.916546</td>\n",
       "    </tr>\n",
       "    <tr>\n",
       "      <th>2008-01-01</th>\n",
       "      <td>13.916546</td>\n",
       "    </tr>\n",
       "    <tr>\n",
       "      <th>2009-01-01</th>\n",
       "      <td>13.154533</td>\n",
       "    </tr>\n",
       "    <tr>\n",
       "      <th>2010-01-01</th>\n",
       "      <td>12.90115</td>\n",
       "    </tr>\n",
       "    <tr>\n",
       "      <th>2011-01-01</th>\n",
       "      <td>12.90115</td>\n",
       "    </tr>\n",
       "    <tr>\n",
       "      <th>2012-01-01</th>\n",
       "      <td>12.227077</td>\n",
       "    </tr>\n",
       "    <tr>\n",
       "      <th>2013-01-01</th>\n",
       "      <td>12.142971</td>\n",
       "    </tr>\n",
       "    <tr>\n",
       "      <th>2014-01-01</th>\n",
       "      <td>12.479572</td>\n",
       "    </tr>\n",
       "  </tbody>\n",
       "</table>\n",
       "</div>"
      ],
      "text/plain": [
       "           Prediction\n",
       "Date                 \n",
       "1972-01-01  14.256156\n",
       "1973-01-01  14.086298\n",
       "1974-01-01  14.171203\n",
       "1975-01-01  14.256156\n",
       "1976-01-01  14.086298\n",
       "1977-01-01  14.256156\n",
       "1978-01-01   14.34114\n",
       "1979-01-01  15.107539\n",
       "1980-01-01   15.02225\n",
       "1981-01-01   14.34114\n",
       "1982-01-01  13.746984\n",
       "1983-01-01  13.408234\n",
       "1984-01-01  13.746984\n",
       "1985-01-01  13.492869\n",
       "1986-01-01  12.816767\n",
       "1987-01-01  13.408234\n",
       "1988-01-01  14.001409\n",
       "1989-01-01  14.086298\n",
       "1990-01-01  12.985575\n",
       "1991-01-01  12.563828\n",
       "1992-01-01  12.816767\n",
       "1993-01-01  12.816767\n",
       "1994-01-01  12.985575\n",
       "1995-01-01  13.154533\n",
       "1996-01-01  13.408234\n",
       "1997-01-01  13.746984\n",
       "1998-01-01  13.916546\n",
       "1999-01-01  14.001409\n",
       "2000-01-01  14.426149\n",
       "2001-01-01  14.086298\n",
       "2002-01-01  13.746984\n",
       "2003-01-01  14.511207\n",
       "2004-01-01   14.34114\n",
       "2005-01-01   14.34114\n",
       "2006-01-01  13.831756\n",
       "2007-01-01  13.916546\n",
       "2008-01-01  13.916546\n",
       "2009-01-01  13.154533\n",
       "2010-01-01   12.90115\n",
       "2011-01-01   12.90115\n",
       "2012-01-01  12.227077\n",
       "2013-01-01  12.142971\n",
       "2014-01-01  12.479572"
      ]
     },
     "execution_count": 1116,
     "metadata": {},
     "output_type": "execute_result"
    }
   ],
   "source": [
    "pred = pred.flatten()\n",
    "original_df = log_co2_emission_data[train_size:].reset_index()\n",
    "\n",
    "lstm_predictions = pd.DataFrame(index=range(0,len(original_df)),columns=['Date','Prediction'])\n",
    "for i in range(0,len(original_df)):\n",
    "    lstm_predictions['Date'][i] = original_df['Date'][i].date()\n",
    "    lstm_predictions['Prediction'][i] = pred[i]\n",
    "    \n",
    "lstm_predictions.set_index('Date',inplace=True)    \n",
    "lstm_predictions"
   ]
  },
  {
   "cell_type": "code",
   "execution_count": 1117,
   "id": "fd3ee3c4",
   "metadata": {},
   "outputs": [
    {
     "data": {
      "image/png": "[encoded data removed]",
      "text/plain": [
       "<Figure size 1200x500 with 1 Axes>"
      ]
     },
     "metadata": {
      "needs_background": "light"
     },
     "output_type": "display_data"
    }
   ],
   "source": [
    "#for plotting\n",
    "def create_lstm_forecasting():\n",
    "    plt.figure(figsize=(12,5), dpi=100)\n",
    "    #for plotting\n",
    "    train_data = np.e**(log_co2_emission_data[:len(train)])\n",
    "    test_data = np.e**(log_co2_emission_data[len(train):])\n",
    "    lstm_Predictions = lstm_close_stocks_predictions\n",
    "    plt.plot(train_data,label='training')\n",
    "    plt.plot(test_data, color = 'blue', label='Actual CO2 Emission')\n",
    "    plt.plot(lstm_Predictions, color = 'orange',label='Predicted CO2 Emission')\n",
    "    plt.title('CO2 Emission Prediction')\n",
    "    plt.xlabel('Year')\n",
    "    plt.ylabel('Actual CO2 Emission')\n",
    "    plt.legend(loc='upper left', fontsize=8)\n",
    "    plt.show()\n",
    "create_lstm_forecasting()"
   ]
  },
  {
   "cell_type": "code",
   "execution_count": 1118,
   "id": "5e42ccbd",
   "metadata": {},
   "outputs": [
    {
     "name": "stdout",
     "output_type": "stream",
     "text": [
      "RMSE score for LSTM model on logged data:  12.703395864078715\n"
     ]
    }
   ],
   "source": [
    "tst_data = test.reshape(len(test),1)\n",
    "LSTM_RMSE  = math.sqrt(mean_squared_error(tst_data, pred))\n",
    "print('RMSE score for LSTM model on logged data: ',LSTM_RMSE )"
   ]
  },
  {
   "cell_type": "code",
   "execution_count": 1119,
   "id": "04038c99",
   "metadata": {},
   "outputs": [
    {
     "data": {
      "text/html": [
       "<div>\n",
       "<style scoped>\n",
       "    .dataframe tbody tr th:only-of-type {\n",
       "        vertical-align: middle;\n",
       "    }\n",
       "\n",
       "    .dataframe tbody tr th {\n",
       "        vertical-align: top;\n",
       "    }\n",
       "\n",
       "    .dataframe thead th {\n",
       "        text-align: right;\n",
       "    }\n",
       "</style>\n",
       "<table border=\"1\" class=\"dataframe\">\n",
       "  <thead>\n",
       "    <tr style=\"text-align: right;\">\n",
       "      <th></th>\n",
       "      <th>RMSE</th>\n",
       "    </tr>\n",
       "  </thead>\n",
       "  <tbody>\n",
       "    <tr>\n",
       "      <th>ARMA</th>\n",
       "      <td>11.702891</td>\n",
       "    </tr>\n",
       "    <tr>\n",
       "      <th>LSTM</th>\n",
       "      <td>12.703396</td>\n",
       "    </tr>\n",
       "  </tbody>\n",
       "</table>\n",
       "</div>"
      ],
      "text/plain": [
       "           RMSE\n",
       "ARMA  11.702891\n",
       "LSTM  12.703396"
      ]
     },
     "execution_count": 1119,
     "metadata": {},
     "output_type": "execute_result"
    }
   ],
   "source": [
    "data = [[ARMA_RMSE], [LSTM_RMSE]]\n",
    "df = pd.DataFrame(data, columns=['RMSE'],index=['ARMA',\n",
    "                               'LSTM'])\n",
    "df"
   ]
  },
  {
   "cell_type": "markdown",
   "id": "a87c3cd8",
   "metadata": {},
   "source": [
    "### We choose ARMA as best model for forecasting the CO2 Emission time series data"
   ]
  },
  {
   "cell_type": "markdown",
   "id": "c0cbce2b",
   "metadata": {},
   "source": [
    "### Next 50 years CO2 Emission Prediction starts from 2014  Using ARMA"
   ]
  },
  {
   "cell_type": "code",
   "execution_count": 1120,
   "id": "17d96032",
   "metadata": {
    "scrolled": true
   },
   "outputs": [
    {
     "data": {
      "text/html": [
       "<div>\n",
       "<style scoped>\n",
       "    .dataframe tbody tr th:only-of-type {\n",
       "        vertical-align: middle;\n",
       "    }\n",
       "\n",
       "    .dataframe tbody tr th {\n",
       "        vertical-align: top;\n",
       "    }\n",
       "\n",
       "    .dataframe thead th {\n",
       "        text-align: right;\n",
       "    }\n",
       "</style>\n",
       "<table border=\"1\" class=\"dataframe\">\n",
       "  <thead>\n",
       "    <tr style=\"text-align: right;\">\n",
       "      <th></th>\n",
       "      <th>CO2</th>\n",
       "    </tr>\n",
       "  </thead>\n",
       "  <tbody>\n",
       "    <tr>\n",
       "      <th>2015-01-01</th>\n",
       "      <td>12.902196</td>\n",
       "    </tr>\n",
       "    <tr>\n",
       "      <th>2016-01-01</th>\n",
       "      <td>12.837620</td>\n",
       "    </tr>\n",
       "    <tr>\n",
       "      <th>2017-01-01</th>\n",
       "      <td>12.773455</td>\n",
       "    </tr>\n",
       "    <tr>\n",
       "      <th>2018-01-01</th>\n",
       "      <td>12.709696</td>\n",
       "    </tr>\n",
       "    <tr>\n",
       "      <th>2019-01-01</th>\n",
       "      <td>12.646341</td>\n",
       "    </tr>\n",
       "    <tr>\n",
       "      <th>2020-01-01</th>\n",
       "      <td>12.583386</td>\n",
       "    </tr>\n",
       "    <tr>\n",
       "      <th>2021-01-01</th>\n",
       "      <td>12.520829</td>\n",
       "    </tr>\n",
       "    <tr>\n",
       "      <th>2022-01-01</th>\n",
       "      <td>12.458667</td>\n",
       "    </tr>\n",
       "    <tr>\n",
       "      <th>2023-01-01</th>\n",
       "      <td>12.396897</td>\n",
       "    </tr>\n",
       "    <tr>\n",
       "      <th>2024-01-01</th>\n",
       "      <td>12.335516</td>\n",
       "    </tr>\n",
       "    <tr>\n",
       "      <th>2025-01-01</th>\n",
       "      <td>12.274520</td>\n",
       "    </tr>\n",
       "    <tr>\n",
       "      <th>2026-01-01</th>\n",
       "      <td>12.213909</td>\n",
       "    </tr>\n",
       "    <tr>\n",
       "      <th>2027-01-01</th>\n",
       "      <td>12.153677</td>\n",
       "    </tr>\n",
       "    <tr>\n",
       "      <th>2028-01-01</th>\n",
       "      <td>12.093823</td>\n",
       "    </tr>\n",
       "    <tr>\n",
       "      <th>2029-01-01</th>\n",
       "      <td>12.034344</td>\n",
       "    </tr>\n",
       "    <tr>\n",
       "      <th>2030-01-01</th>\n",
       "      <td>11.975238</td>\n",
       "    </tr>\n",
       "    <tr>\n",
       "      <th>2031-01-01</th>\n",
       "      <td>11.916501</td>\n",
       "    </tr>\n",
       "    <tr>\n",
       "      <th>2032-01-01</th>\n",
       "      <td>11.858130</td>\n",
       "    </tr>\n",
       "    <tr>\n",
       "      <th>2033-01-01</th>\n",
       "      <td>11.800124</td>\n",
       "    </tr>\n",
       "    <tr>\n",
       "      <th>2034-01-01</th>\n",
       "      <td>11.742479</td>\n",
       "    </tr>\n",
       "    <tr>\n",
       "      <th>2035-01-01</th>\n",
       "      <td>11.685193</td>\n",
       "    </tr>\n",
       "    <tr>\n",
       "      <th>2036-01-01</th>\n",
       "      <td>11.628263</td>\n",
       "    </tr>\n",
       "    <tr>\n",
       "      <th>2037-01-01</th>\n",
       "      <td>11.571686</td>\n",
       "    </tr>\n",
       "    <tr>\n",
       "      <th>2038-01-01</th>\n",
       "      <td>11.515461</td>\n",
       "    </tr>\n",
       "    <tr>\n",
       "      <th>2039-01-01</th>\n",
       "      <td>11.459584</td>\n",
       "    </tr>\n",
       "    <tr>\n",
       "      <th>2040-01-01</th>\n",
       "      <td>11.404053</td>\n",
       "    </tr>\n",
       "    <tr>\n",
       "      <th>2041-01-01</th>\n",
       "      <td>11.348866</td>\n",
       "    </tr>\n",
       "    <tr>\n",
       "      <th>2042-01-01</th>\n",
       "      <td>11.294019</td>\n",
       "    </tr>\n",
       "    <tr>\n",
       "      <th>2043-01-01</th>\n",
       "      <td>11.239511</td>\n",
       "    </tr>\n",
       "    <tr>\n",
       "      <th>2044-01-01</th>\n",
       "      <td>11.185339</td>\n",
       "    </tr>\n",
       "    <tr>\n",
       "      <th>2045-01-01</th>\n",
       "      <td>11.131501</td>\n",
       "    </tr>\n",
       "    <tr>\n",
       "      <th>2046-01-01</th>\n",
       "      <td>11.077994</td>\n",
       "    </tr>\n",
       "    <tr>\n",
       "      <th>2047-01-01</th>\n",
       "      <td>11.024816</td>\n",
       "    </tr>\n",
       "    <tr>\n",
       "      <th>2048-01-01</th>\n",
       "      <td>10.971964</td>\n",
       "    </tr>\n",
       "    <tr>\n",
       "      <th>2049-01-01</th>\n",
       "      <td>10.919437</td>\n",
       "    </tr>\n",
       "    <tr>\n",
       "      <th>2050-01-01</th>\n",
       "      <td>10.867231</td>\n",
       "    </tr>\n",
       "    <tr>\n",
       "      <th>2051-01-01</th>\n",
       "      <td>10.815345</td>\n",
       "    </tr>\n",
       "    <tr>\n",
       "      <th>2052-01-01</th>\n",
       "      <td>10.763776</td>\n",
       "    </tr>\n",
       "    <tr>\n",
       "      <th>2053-01-01</th>\n",
       "      <td>10.712522</td>\n",
       "    </tr>\n",
       "    <tr>\n",
       "      <th>2054-01-01</th>\n",
       "      <td>10.661581</td>\n",
       "    </tr>\n",
       "    <tr>\n",
       "      <th>2055-01-01</th>\n",
       "      <td>10.610950</td>\n",
       "    </tr>\n",
       "    <tr>\n",
       "      <th>2056-01-01</th>\n",
       "      <td>10.560628</td>\n",
       "    </tr>\n",
       "    <tr>\n",
       "      <th>2057-01-01</th>\n",
       "      <td>10.510612</td>\n",
       "    </tr>\n",
       "    <tr>\n",
       "      <th>2058-01-01</th>\n",
       "      <td>10.460899</td>\n",
       "    </tr>\n",
       "    <tr>\n",
       "      <th>2059-01-01</th>\n",
       "      <td>10.411488</td>\n",
       "    </tr>\n",
       "    <tr>\n",
       "      <th>2060-01-01</th>\n",
       "      <td>10.362377</td>\n",
       "    </tr>\n",
       "    <tr>\n",
       "      <th>2061-01-01</th>\n",
       "      <td>10.313563</td>\n",
       "    </tr>\n",
       "    <tr>\n",
       "      <th>2062-01-01</th>\n",
       "      <td>10.265045</td>\n",
       "    </tr>\n",
       "    <tr>\n",
       "      <th>2063-01-01</th>\n",
       "      <td>10.216819</td>\n",
       "    </tr>\n",
       "    <tr>\n",
       "      <th>2064-01-01</th>\n",
       "      <td>10.168885</td>\n",
       "    </tr>\n",
       "  </tbody>\n",
       "</table>\n",
       "</div>"
      ],
      "text/plain": [
       "                  CO2\n",
       "2015-01-01  12.902196\n",
       "2016-01-01  12.837620\n",
       "2017-01-01  12.773455\n",
       "2018-01-01  12.709696\n",
       "2019-01-01  12.646341\n",
       "2020-01-01  12.583386\n",
       "2021-01-01  12.520829\n",
       "2022-01-01  12.458667\n",
       "2023-01-01  12.396897\n",
       "2024-01-01  12.335516\n",
       "2025-01-01  12.274520\n",
       "2026-01-01  12.213909\n",
       "2027-01-01  12.153677\n",
       "2028-01-01  12.093823\n",
       "2029-01-01  12.034344\n",
       "2030-01-01  11.975238\n",
       "2031-01-01  11.916501\n",
       "2032-01-01  11.858130\n",
       "2033-01-01  11.800124\n",
       "2034-01-01  11.742479\n",
       "2035-01-01  11.685193\n",
       "2036-01-01  11.628263\n",
       "2037-01-01  11.571686\n",
       "2038-01-01  11.515461\n",
       "2039-01-01  11.459584\n",
       "2040-01-01  11.404053\n",
       "2041-01-01  11.348866\n",
       "2042-01-01  11.294019\n",
       "2043-01-01  11.239511\n",
       "2044-01-01  11.185339\n",
       "2045-01-01  11.131501\n",
       "2046-01-01  11.077994\n",
       "2047-01-01  11.024816\n",
       "2048-01-01  10.971964\n",
       "2049-01-01  10.919437\n",
       "2050-01-01  10.867231\n",
       "2051-01-01  10.815345\n",
       "2052-01-01  10.763776\n",
       "2053-01-01  10.712522\n",
       "2054-01-01  10.661581\n",
       "2055-01-01  10.610950\n",
       "2056-01-01  10.560628\n",
       "2057-01-01  10.510612\n",
       "2058-01-01  10.460899\n",
       "2059-01-01  10.411488\n",
       "2060-01-01  10.362377\n",
       "2061-01-01  10.313563\n",
       "2062-01-01  10.265045\n",
       "2063-01-01  10.216819\n",
       "2064-01-01  10.168885"
      ]
     },
     "execution_count": 1120,
     "metadata": {},
     "output_type": "execute_result"
    }
   ],
   "source": [
    "pred = mod_ARMA_fit.predict(start='1800-01-01', end='2064-01-01', dynamic=False).to_frame('CO2')\n",
    "full_pred_data = pred.copy()\n",
    "future_pred_data = full_pred_data[len(co2_emission_data):]\n",
    "np.e**(future_pred_data)"
   ]
  },
  {
   "cell_type": "code",
   "execution_count": 1121,
   "id": "5d097668",
   "metadata": {},
   "outputs": [
    {
     "data": {
      "image/png": "[encoded data removed]",
      "text/plain": [
       "<Figure size 432x288 with 1 Axes>"
      ]
     },
     "metadata": {
      "needs_background": "light"
     },
     "output_type": "display_data"
    }
   ],
   "source": [
    "past_data = np.e**(full_pred_data.iloc[:len(co2_emission_data),:])\n",
    "future_data = np.e**(full_pred_data.iloc[len(co2_emission_data)-1:,:])\n",
    "ax = past_data.plot(ls=\"-\", color=\"b\")\n",
    "future_data.plot(ls=\"--\", color=\"r\", ax=ax)\n",
    "plt.show()"
   ]
  },
  {
   "cell_type": "code",
   "execution_count": 1122,
   "id": "071c61a2",
   "metadata": {},
   "outputs": [],
   "source": [
    "# "
   ]
  }
 ],
 "metadata": {
  "kernelspec": {
   "display_name": "Python 3",
   "language": "python",
   "name": "python3"
  },
  "language_info": {
   "codemirror_mode": {
    "name": "ipython",
    "version": 3
   },
   "file_extension": ".py",
   "mimetype": "text/x-python",
   "name": "python",
   "nbconvert_exporter": "python",
   "pygments_lexer": "ipython3",
   "version": "3.8.8"
  }
 },
 "nbformat": 4,
 "nbformat_minor": 5
}
